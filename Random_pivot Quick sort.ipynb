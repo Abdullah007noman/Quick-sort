{
  "nbformat": 4,
  "nbformat_minor": 0,
  "metadata": {
    "colab": {
      "provenance": []
    },
    "kernelspec": {
      "name": "python3",
      "display_name": "Python 3"
    },
    "language_info": {
      "name": "python"
    }
  },
  "cells": [
    {
      "cell_type": "code",
      "execution_count": 7,
      "metadata": {
        "id": "WXkOhVIrUO1H",
        "outputId": "62d8d5cb-7ec5-40ec-d28c-68457b6fc937",
        "colab": {
          "base_uri": "https://localhost:8080/"
        }
      },
      "outputs": [
        {
          "output_type": "stream",
          "name": "stdout",
          "text": [
            "Non-in-place Quicksort: [1, 1, 2, 3, 6, 8, 10]\n",
            "In-place Quicksort: [1, 1, 2, 3, 6, 8, 10]\n"
          ]
        }
      ],
      "source": [
        "import random\n",
        "\n",
        "# Non-in-place Quicksort with random pivot\n",
        "def quicksort(arr):\n",
        "    if len(arr) <= 1:\n",
        "        return arr\n",
        "    pivot = random.choice(arr)  # Randomly choose a pivot\n",
        "    left = [x for x in arr if x < pivot]\n",
        "    middle = [x for x in arr if x == pivot]\n",
        "    right = [x for x in arr if x > pivot]\n",
        "    return quicksort(left) + middle + quicksort(right)\n",
        "\n",
        "# In-place Quicksort with random pivot\n",
        "def quicksort_inplace(arr, low, high):\n",
        "    if low < high:\n",
        "        pivot_index = partition(arr, low, high)\n",
        "        quicksort_inplace(arr, low, pivot_index - 1)\n",
        "        quicksort_inplace(arr, pivot_index + 1, high)\n",
        "\n",
        "def partition(arr, low, high):\n",
        "    pivot_index = random.randint(low, high)  # Randomly choose a pivot index\n",
        "    arr[pivot_index], arr[high] = arr[high], arr[pivot_index]  # Move pivot to end\n",
        "    pivot = arr[high]\n",
        "    i = low - 1\n",
        "    for j in range(low, high):\n",
        "        if arr[j] < pivot:\n",
        "            i += 1\n",
        "            arr[i], arr[j] = arr[j], arr[i]\n",
        "    arr[i + 1], arr[high] = arr[high], arr[i + 1]  # Move pivot to its final place\n",
        "    return i + 1\n",
        "\n",
        "# Example usage\n",
        "if __name__ == \"__main__\":\n",
        "    arr = [3, 6, 8, 10, 1, 2, 1]\n",
        "\n",
        "    # Non-in-place Quicksort\n",
        "    sorted_arr = quicksort(arr)\n",
        "    print(\"Non-in-place Quicksort:\", sorted_arr)\n",
        "\n",
        "    # In-place Quicksort\n",
        "    arr_copy = arr.copy()  # Make a copy for in-place sorting\n",
        "    quicksort_inplace(arr_copy, 0, len(arr_copy) - 1)\n",
        "    print(\"In-place Quicksort:\", arr_copy)"
      ]
    },
    {
      "cell_type": "code",
      "source": [],
      "metadata": {
        "id": "lhUcoNB6UQHI"
      },
      "execution_count": null,
      "outputs": []
    }
  ]
}