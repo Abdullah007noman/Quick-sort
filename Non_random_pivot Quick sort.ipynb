{
  "nbformat": 4,
  "nbformat_minor": 0,
  "metadata": {
    "colab": {
      "provenance": []
    },
    "kernelspec": {
      "name": "python3",
      "display_name": "Python 3"
    },
    "language_info": {
      "name": "python"
    }
  },
  "cells": [
    {
      "cell_type": "code",
      "execution_count": 1,
      "metadata": {
        "id": "n4pskYGQj8S5",
        "outputId": "9dbfe2ce-f79e-4f1b-b1fc-2067dcb00ea5",
        "colab": {
          "base_uri": "https://localhost:8080/"
        }
      },
      "outputs": [
        {
          "output_type": "stream",
          "name": "stdout",
          "text": [
            "Quicksort (first element as pivot): [1, 1, 2, 3, 6, 8, 10]\n",
            "Quicksort (last element as pivot): [1, 1, 2, 3, 6, 8, 10]\n",
            "Quicksort (middle element as pivot): [1, 1, 2, 3, 6, 8, 10]\n",
            "Quicksort (median-of-three pivot): [1, 1, 2, 3, 6, 8, 10]\n",
            "In-place Quicksort (last element as pivot): [1, 1, 2, 3, 6, 8, 10]\n"
          ]
        }
      ],
      "source": [
        "# Quicksort with first element as pivot (non-in-place)\n",
        "def quicksort_first(arr):\n",
        "    if len(arr) <= 1:\n",
        "        return arr\n",
        "    pivot = arr[0]  # Choose the first element as the pivot\n",
        "    left = [x for x in arr[1:] if x < pivot]\n",
        "    middle = [x for x in arr if x == pivot]\n",
        "    right = [x for x in arr[1:] if x > pivot]\n",
        "    return quicksort_first(left) + middle + quicksort_first(right)\n",
        "\n",
        "# Quicksort with last element as pivot (non-in-place)\n",
        "def quicksort_last(arr):\n",
        "    if len(arr) <= 1:\n",
        "        return arr\n",
        "    pivot = arr[-1]  # Choose the last element as the pivot\n",
        "    left = [x for x in arr[:-1] if x < pivot]\n",
        "    middle = [x for x in arr if x == pivot]\n",
        "    right = [x for x in arr[:-1] if x > pivot]\n",
        "    return quicksort_last(left) + middle + quicksort_last(right)\n",
        "\n",
        "# Quicksort with middle element as pivot (non-in-place)\n",
        "def quicksort_middle(arr):\n",
        "    if len(arr) <= 1:\n",
        "        return arr\n",
        "    mid = len(arr) // 2\n",
        "    pivot = arr[mid]  # Choose the middle element as the pivot\n",
        "    left = [x for x in arr[:mid] + arr[mid+1:] if x < pivot]\n",
        "    middle = [x for x in arr if x == pivot]\n",
        "    right = [x for x in arr[:mid] + arr[mid+1:] if x > pivot]\n",
        "    return quicksort_middle(left) + middle + quicksort_middle(right)\n",
        "\n",
        "# Quicksort with median-of-three pivot (non-in-place)\n",
        "def quicksort_median_of_three(arr):\n",
        "    if len(arr) <= 1:\n",
        "        return arr\n",
        "\n",
        "    # Choose the median of the first, middle, and last elements as the pivot\n",
        "    first = arr[0]\n",
        "    middle = arr[len(arr) // 2]\n",
        "    last = arr[-1]\n",
        "    pivot = sorted([first, middle, last])[1]  # Median of the three\n",
        "\n",
        "    left = [x for x in arr if x < pivot]\n",
        "    middle = [x for x in arr if x == pivot]\n",
        "    right = [x for x in arr if x > pivot]\n",
        "    return quicksort_median_of_three(left) + middle + quicksort_median_of_three(right)\n",
        "\n",
        "# In-place Quicksort with last element as pivot\n",
        "def quicksort_inplace_last(arr, low, high):\n",
        "    if low < high:\n",
        "        pivot_index = partition_last(arr, low, high)\n",
        "        quicksort_inplace_last(arr, low, pivot_index - 1)\n",
        "        quicksort_inplace_last(arr, pivot_index + 1, high)\n",
        "\n",
        "def partition_last(arr, low, high):\n",
        "    pivot = arr[high]  # Choose the last element as the pivot\n",
        "    i = low - 1\n",
        "    for j in range(low, high):\n",
        "        if arr[j] < pivot:\n",
        "            i += 1\n",
        "            arr[i], arr[j] = arr[j], arr[i]\n",
        "    arr[i + 1], arr[high] = arr[high], arr[i + 1]  # Move pivot to its final place\n",
        "    return i + 1\n",
        "\n",
        "# Example usage\n",
        "if __name__ == \"__main__\":\n",
        "    arr = [3, 6, 8, 10, 1, 2, 1]\n",
        "\n",
        "    # Non-in-place Quicksort (first element as pivot)\n",
        "    sorted_arr_first = quicksort_first(arr)\n",
        "    print(\"Quicksort (first element as pivot):\", sorted_arr_first)\n",
        "\n",
        "    # Non-in-place Quicksort (last element as pivot)\n",
        "    sorted_arr_last = quicksort_last(arr)\n",
        "    print(\"Quicksort (last element as pivot):\", sorted_arr_last)\n",
        "\n",
        "    # Non-in-place Quicksort (middle element as pivot)\n",
        "    sorted_arr_middle = quicksort_middle(arr)\n",
        "    print(\"Quicksort (middle element as pivot):\", sorted_arr_middle)\n",
        "\n",
        "    # Non-in-place Quicksort (median-of-three pivot)\n",
        "    sorted_arr_median = quicksort_median_of_three(arr)\n",
        "    print(\"Quicksort (median-of-three pivot):\", sorted_arr_median)\n",
        "\n",
        "    # In-place Quicksort (last element as pivot)\n",
        "    arr_copy = arr.copy()  # Make a copy for in-place sorting\n",
        "    quicksort_inplace_last(arr_copy, 0, len(arr_copy) - 1)\n",
        "    print(\"In-place Quicksort (last element as pivot):\", arr_copy)"
      ]
    },
    {
      "cell_type": "code",
      "source": [],
      "metadata": {
        "id": "wBo5KMrqkAw-"
      },
      "execution_count": null,
      "outputs": []
    }
  ]
}